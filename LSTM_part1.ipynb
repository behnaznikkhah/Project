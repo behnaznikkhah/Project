{
  "nbformat": 4,
  "nbformat_minor": 0,
  "metadata": {
    "colab": {
      "name": "LSTM_part1.ipynb",
      "provenance": [],
      "collapsed_sections": [],
      "authorship_tag": "ABX9TyPPtTLEPcP3N4sEF/N9ycyG",
      "include_colab_link": true
    },
    "kernelspec": {
      "name": "python3",
      "display_name": "Python 3"
    }
  },
  "cells": [
    {
      "cell_type": "markdown",
      "metadata": {
        "id": "view-in-github",
        "colab_type": "text"
      },
      "source": [
        "<a href=\"https://colab.research.google.com/github/behnaznikkhah/Project/blob/master/LSTM_part1.ipynb\" target=\"_parent\"><img src=\"https://colab.research.google.com/assets/colab-badge.svg\" alt=\"Open In Colab\"/></a>"
      ]
    },
    {
      "cell_type": "code",
      "metadata": {
        "id": "hOQPYEMCUWHx"
      },
      "source": [
        "import os\n",
        "import pandas as pd\n",
        "from pandas import read_csv\n",
        "from pandas import DataFrame\n",
        "from pandas import concat"
      ],
      "execution_count": null,
      "outputs": []
    },
    {
      "cell_type": "code",
      "metadata": {
        "id": "B7qxRCxcUhPj"
      },
      "source": [
        "#merge markets data files, clean the final data and save in a csv file \n",
        "def import_content(file_dir):\n",
        "\n",
        "    #make a list of all csv files in the given directory\n",
        "    filepath_list = []\n",
        "    file_path = os.path.abspath(file_dir) \n",
        "    filepath_list = [os.path.join(file_path, f) for f in os.listdir(file_path) if f.endswith('.csv')]\n",
        "\n",
        "    \"\"\" load market data for each country and add a column named 'Country' \"\"\"\n",
        "\n",
        "    data_Abudhabi = pd.read_csv(filepath_list[6],thousands=',')\n",
        "    data_Abudhabi['Country'] = 'United Arab Emirates'\n",
        "    \n",
        "    data_Brazil = pd.read_csv(filepath_list[11],thousands=',')\n",
        "    data_Brazil['Country'] = 'Brazil'\n",
        "    \n",
        "    data_France = pd.read_csv(filepath_list[3],thousands=',')\n",
        "    data_France['Country'] = 'France'\n",
        "    \n",
        "    data_Germany = pd.read_csv(filepath_list[7],thousands=',')\n",
        "    data_Germany['Country'] = 'Germany'\n",
        "    \n",
        "    \n",
        "    data_Jakarta = pd.read_csv(filepath_list[1],thousands=',')\n",
        "    data_Jakarta['Country'] = 'Indonesia'\n",
        "    \n",
        "    data_Korea = pd.read_csv(filepath_list[9],thousands=',')\n",
        "    data_Korea['Country'] = 'South Korea'\n",
        "    \n",
        "    data_USA = pd.read_csv(filepath_list[4],thousands=',')\n",
        "    data_USA['Country'] = 'United States'\n",
        "    \n",
        "    data_India = pd.read_csv(filepath_list[10],thousands=',')\n",
        "    data_India['Country'] = 'India'\n",
        "    \n",
        "    data_Japan = pd.read_csv(filepath_list[0],thousands=',')\n",
        "    data_Japan['Country'] = 'Japan'\n",
        "    \n",
        "    data_Australia = pd.read_csv(filepath_list[8],thousands=',')\n",
        "    data_Australia['Country'] = 'Australia'\n",
        "    \n",
        "    data_Canada = pd.read_csv(filepath_list[2],thousands=',')\n",
        "    data_Canada['Country'] = 'Canada'\n",
        "    \n",
        "    data_Shanghai = pd.read_csv(filepath_list[5],thousands=',')\n",
        "    data_Shanghai['Country'] = 'China'\n",
        "    \n",
        "    data_SouthAfrica = pd.read_csv(filepath_list[13],thousands=',')\n",
        "    data_SouthAfrica['Country'] = 'South Africa'\n",
        "\n",
        "    #concate all countries' market data\n",
        "    data = pd.concat([data_Abudhabi, data_Brazil, data_France, data_Germany, data_USA,\n",
        "                      data_Jakarta, data_Korea, data_India, data_Japan, data_Australia, data_Canada, data_Shanghai,data_SouthAfrica], axis=0)\n",
        "    \n",
        "    #rename columns' name\n",
        "    data.rename(columns = {'Change %':'Change'}, inplace = True)\n",
        "    data.rename(columns = {'Vol.':'Volume'}, inplace = True)\n",
        "    \n",
        "    #remove % from the end of vlues of Change column\n",
        "    data['Change'] = data['Change'].str.replace('.$', '')\n",
        "\n",
        "    #remove M from the end of vlues of Volume column\n",
        "    data['Volume'] = data['Volume'].str.replace('.$', '')\n",
        "\n",
        "    #change the type of Change and Volume to numeric\n",
        "    data[[\"Volume\",\"Change\"]] = data[[\"Volume\",\"Change\"]].apply(pd.to_numeric)\n",
        "\n",
        "    #change the type of Date to datetime\n",
        "    data[\"Date\"] = pd.to_datetime(data[\"Date\"])\n",
        "\n",
        "    #save the final data in a csv file named Market\n",
        "    data.to_csv(os.path.join(file_path, 'Market.csv'),index=False)\n",
        "    \n",
        "if __name__ == \"__main__\":\n",
        "  file_dir = 'MarketData'  \n",
        "  import_content(file_dir)\n"
      ],
      "execution_count": null,
      "outputs": []
    },
    {
      "cell_type": "code",
      "metadata": {
        "id": "r18M-xa2UoCI"
      },
      "source": [
        "#read the covid data, clean data and save in a csv file\n",
        "def import_content(file_dir):\n",
        "\n",
        "    #make a list of all csv files in the given directory\n",
        "    filepath_list = []\n",
        "    file_path = os.path.abspath(file_dir) \n",
        "    filepath_list = [os.path.join(file_path, f) for f in os.listdir(file_path) if f.endswith('.csv')]\n",
        "    #load covid data\n",
        "    data_Covid = pd.read_csv(filepath_list[0])\n",
        "\n",
        "    #rename columns\n",
        "    data_Covid.rename(columns = {'total_cases':'ActiveCases',\n",
        "                                  'total_deaths':'Deaths','location':'Country',\n",
        "                                  'date':'Date'}, inplace = True)\n",
        "    #change order of columns\n",
        "    data_Covid=data_Covid[['Country','Date','ActiveCases','Deaths']]\n",
        "\n",
        "    #change type of date to datetime\n",
        "    data_Covid[\"Date\"] = pd.to_datetime(data_Covid[\"Date\"])\n",
        "\n",
        "    #save the final data in a csv file named Marke\n",
        "    data_Covid.to_csv(os.path.join(file_path, 'Covid.csv'),index=False)\n",
        "    \n",
        "    \n",
        "if __name__ == \"__main__\":\n",
        "  file_dir = 'CovidData'  \n",
        "  import_content(file_dir)"
      ],
      "execution_count": null,
      "outputs": []
    }
  ]
}