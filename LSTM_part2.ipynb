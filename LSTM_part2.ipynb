{
  "nbformat": 4,
  "nbformat_minor": 0,
  "metadata": {
    "colab": {
      "name": "LSTM_part2.ipynb",
      "provenance": [],
      "collapsed_sections": [],
      "authorship_tag": "ABX9TyPSIi85iuZed0Q8wE1WlHlR",
      "include_colab_link": true
    },
    "kernelspec": {
      "name": "python3",
      "display_name": "Python 3"
    }
  },
  "cells": [
    {
      "cell_type": "markdown",
      "metadata": {
        "id": "view-in-github",
        "colab_type": "text"
      },
      "source": [
        "<a href=\"https://colab.research.google.com/github/behnaznikkhah/Project/blob/master/LSTM_part2.ipynb\" target=\"_parent\"><img src=\"https://colab.research.google.com/assets/colab-badge.svg\" alt=\"Open In Colab\"/></a>"
      ]
    },
    {
      "cell_type": "code",
      "metadata": {
        "id": "P8W-5DZUg9h5"
      },
      "source": [
        "import os\n",
        "import pandas as pd\n",
        "from pandas import read_csv\n",
        "from pandas import DataFrame\n",
        "from pandas import concat\n",
        "from numpy import concatenate\n",
        "from math import sqrt\n",
        "import numpy as np\n",
        "from sklearn.preprocessing import MinMaxScaler\n",
        "from sklearn.metrics import mean_squared_error\n",
        "import matplotlib.pyplot as plt \n",
        "import tensorflow as tf\n",
        "from keras.models import Sequential\n",
        "from keras.layers import Dense\n",
        "from keras.layers import LSTM\n",
        "from keras.layers import LeakyReLU\n",
        "import numpy\n",
        "\n"
      ],
      "execution_count": 1,
      "outputs": []
    },
    {
      "cell_type": "code",
      "metadata": {
        "id": "TWYGDKrm1UdD"
      },
      "source": [
        "#merge markets data files, clean the final data and save in a csv file \n",
        "def import_content(file_dir):\n",
        "\n",
        "    #make a list of all csv files in the given directory\n",
        "    filepath_list = []\n",
        "    file_path = os.path.abspath(file_dir) \n",
        "    filepath_list = [os.path.join(file_path, f) for f in os.listdir(file_path) if f.endswith('.csv')]\n",
        "\n",
        "    \"\"\" load market data for each country and add a column named 'Country' \"\"\"\n",
        "\n",
        "    data_Abudhabi = pd.read_csv(filepath_list[6],thousands=',')\n",
        "    data_Abudhabi['Country'] = 'United Arab Emirates'\n",
        "    \n",
        "    data_Brazil = pd.read_csv(filepath_list[12],thousands=',')\n",
        "    data_Brazil['Country'] = 'Brazil'\n",
        "    \n",
        "    data_France = pd.read_csv(filepath_list[3],thousands=',')\n",
        "    data_France['Country'] = 'France'\n",
        "    \n",
        "    data_Germany = pd.read_csv(filepath_list[7],thousands=',')\n",
        "    data_Germany['Country'] = 'Germany'\n",
        "    \n",
        "    data_HongKong = pd.read_csv(filepath_list[8],thousands=',')\n",
        "    data_HongKong['Country'] = 'Hong Kong'\n",
        "    \n",
        "    data_Jakarta = pd.read_csv(filepath_list[1],thousands=',')\n",
        "    data_Jakarta['Country'] = 'Indonesia'\n",
        "    \n",
        "    data_Korea = pd.read_csv(filepath_list[10],thousands=',')\n",
        "    data_Korea['Country'] = 'South Korea'\n",
        "    \n",
        "    data_USA = pd.read_csv(filepath_list[4],thousands=',')\n",
        "    data_USA['Country'] = 'United States'\n",
        "    \n",
        "    data_India = pd.read_csv(filepath_list[11],thousands=',')\n",
        "    data_India['Country'] = 'India'\n",
        "    \n",
        "    data_Japan = pd.read_csv(filepath_list[0],thousands=',')\n",
        "    data_Japan['Country'] = 'Japan'\n",
        "    \n",
        "    data_Australia = pd.read_csv(filepath_list[9],thousands=',')\n",
        "    data_Australia['Country'] = 'Australia'\n",
        "    \n",
        "    data_Canada = pd.read_csv(filepath_list[2],thousands=',')\n",
        "    data_Canada['Country'] = 'Canada'\n",
        "    \n",
        "    data_Shanghai = pd.read_csv(filepath_list[5],thousands=',')\n",
        "    data_Shanghai['Country'] = 'China'\n",
        "    \n",
        "    data_SouthAfrica = pd.read_csv(filepath_list[13],thousands=',')\n",
        "    data_SouthAfrica['Country'] = 'South Africa'\n",
        "\n",
        "    #concate all countries' market data\n",
        "    data = pd.concat([data_Abudhabi, data_Brazil, data_France, data_Germany, data_USA, data_HongKong,\n",
        "                      data_Jakarta, data_Korea, data_India, data_Japan, data_Australia, data_Canada, data_Shanghai,data_SouthAfrica], axis=0)\n",
        "    \n",
        "    #rename columns' name\n",
        "    data.rename(columns = {'Change %':'Change'}, inplace = True)\n",
        "    data.rename(columns = {'Vol.':'Volume'}, inplace = True)\n",
        "    \n",
        "    #remove % from the end of vlues of Change column\n",
        "    data['Change'] = data['Change'].str.replace('.$', '')\n",
        "\n",
        "    #remove M from the end of vlues of Volume column\n",
        "    data['Volume'] = data['Volume'].str.replace('.$', '')\n",
        "\n",
        "    #change the type of Change and Volume to numeric\n",
        "    data[[\"Volume\",\"Change\"]] = data[[\"Volume\",\"Change\"]].apply(pd.to_numeric)\n",
        "\n",
        "    #change the type of Date to datetime\n",
        "    data[\"Date\"] = pd.to_datetime(data[\"Date\"])\n",
        "\n",
        "    #save the final data in a csv file named Market\n",
        "    data.to_csv(os.path.join(file_path, 'Market.csv'),index=False)\n",
        "    \n",
        "if __name__ == \"__main__\":\n",
        "  file_dir = 'MarketData'  \n",
        "  import_content(file_dir)\n"
      ],
      "execution_count": 2,
      "outputs": []
    },
    {
      "cell_type": "code",
      "metadata": {
        "id": "e9S4tuZTz6gs"
      },
      "source": [
        "#read the covid data, clean data and save in a csv file\n",
        "def import_content(file_dir):\n",
        "\n",
        "    #make a list of all csv files in the given directory\n",
        "    filepath_list = []\n",
        "    file_path = os.path.abspath(file_dir) \n",
        "    filepath_list = [os.path.join(file_path, f) for f in os.listdir(file_path) if f.endswith('.csv')]\n",
        "    #load covid data\n",
        "    data_Covid = pd.read_csv(filepath_list[0])\n",
        "\n",
        "    #rename columns\n",
        "    data_Covid.rename(columns = {'total_cases':'ActiveCases',\n",
        "                                  'total_deaths':'Deaths','location':'Country',\n",
        "                                  'date':'Date'}, inplace = True)\n",
        "    #change order of columns\n",
        "    data_Covid=data_Covid[['Country','Date','ActiveCases','Deaths']]\n",
        "\n",
        "    #change type of date to datetime\n",
        "    data_Covid[\"Date\"] = pd.to_datetime(data_Covid[\"Date\"])\n",
        "\n",
        "    #save the final data in a csv file named Marke\n",
        "    data_Covid.to_csv(os.path.join(file_path, 'Covid.csv'),index=False)\n",
        "    \n",
        "    \n",
        "if __name__ == \"__main__\":\n",
        "  file_dir = 'CovidData'  \n",
        "  import_content(file_dir)"
      ],
      "execution_count": 4,
      "outputs": []
    },
    {
      "cell_type": "code",
      "metadata": {
        "colab": {
          "base_uri": "https://localhost:8080/"
        },
        "id": "Dq7N7d1jhBOm",
        "outputId": "c403d519-e86d-4bc6-810a-cd0f5867192d"
      },
      "source": [
        "#load datasets\n",
        "file_path_covid= os.path.abspath(\"CovidData\")\n",
        "file_path_market = os.path.abspath(\"MarketData\")\n",
        "\n",
        "Covid = pd.read_csv(os.path.join(file_path_covid, 'Covid.csv'))\n",
        "Market = pd.read_csv(os.path.join(file_path_market, 'Market.csv'))\n",
        "\n",
        "#make a copy of covid dataset \n",
        "CovidData = Covid\n",
        "\n",
        "#Impute missing values with the next valid observation \n",
        "CovidData=CovidData.fillna(method='bfill')\n",
        "\n",
        "#cumalative cases and deaths\n",
        "CovidData=CovidData[CovidData.Country.eq('World')]\n",
        "\n",
        "#make a copy of markets data\n",
        "MarketData = Market\n",
        "\n",
        "#get the name of unique countries\n",
        "countrynames = MarketData.Country.unique()\n",
        "\n",
        "#ask the user to enter a name of country\n",
        "country = input(\"Enter country: \")\n",
        "\n",
        "#save the given country's data to work on it \n",
        "if country in  countrynames:\n",
        "    MarketData=MarketData[MarketData.Country.eq(country)]\n",
        "else:\n",
        "    print(\"Please enter country name, list of countries are:\",countrynames)\n",
        "\n",
        "#drop all columns except Date and Price \n",
        "MarketData = MarketData.drop(['Volume','Low','Open','Change','High','Country'], 1)\n",
        "\n",
        "#create a differenced column named cases_diff, shows the number of new active cases in each day \n",
        "CovidData['cases_diff'] = CovidData['ActiveCases'].diff()\n",
        "\n",
        "#create a differenced column named deaths_diff, shows the number of deaths in each day \n",
        "CovidData['deaths_diff'] = CovidData['Deaths'].diff()\n",
        "\n",
        "#drop columns\n",
        "CovidData = CovidData.drop(['ActiveCases','Deaths','Country'], 1)\n",
        "\n",
        "#join two dataset\n",
        "result = pd.merge(CovidData, MarketData, how='inner', on=['Date'])\n",
        "\n",
        "#change the order of columns\n",
        "result=result[['Date','Price','cases_diff','deaths_diff']]\n",
        "\n"
      ],
      "execution_count": 6,
      "outputs": [
        {
          "output_type": "stream",
          "text": [
            "Enter country: Canada\n"
          ],
          "name": "stdout"
        }
      ]
    },
    {
      "cell_type": "code",
      "metadata": {
        "id": "rNkUW0jOhtM-"
      },
      "source": [
        "# convert series to supervised learning\n",
        "def series_to_supervised(data, n_in=1, n_out=1, dropnan=True):\n",
        "\tn_vars = 1 if type(data) is list else data.shape[1]\n",
        "\tdf = DataFrame(data)\n",
        "\tcols, names = list(), list()\n",
        "\t# input sequence (t-n, ... t-1)\n",
        "\tfor i in range(n_in, 0, -1):\n",
        "\t\tcols.append(df.shift(i))\n",
        "\t\tnames += [('var%d(t-%d)' % (j+1, i)) for j in range(n_vars)]\n",
        "\t# forecast sequence (t, t+1, ... t+n)\n",
        "\tfor i in range(0, n_out):\n",
        "\t\tcols.append(df.shift(-i))\n",
        "\t\tif i == 0:\n",
        "\t\t\tnames += [('var%d(t)' % (j+1)) for j in range(n_vars)]\n",
        "\t\telse:\n",
        "\t\t\tnames += [('var%d(t+%d)' % (j+1, i)) for j in range(n_vars)]\n",
        "\t# put it all together\n",
        "\tagg = concat(cols, axis=1)\n",
        "\tagg.columns = names\n",
        "\t# drop rows with NaN values\n",
        "\tif dropnan:\n",
        "\t\tagg.dropna(inplace=True)\n",
        "\treturn agg"
      ],
      "execution_count": 7,
      "outputs": []
    },
    {
      "cell_type": "code",
      "metadata": {
        "id": "gdizSE3wOqwi"
      },
      "source": [
        "# inverse scaling for a forecasted value\n",
        "def invert_scale(scaler, X, value):\n",
        "\tnew_row = [x for x in X] + [value]\n",
        "\tarray = numpy.array(new_row)\n",
        "\tarray = array.reshape(1, len(array))\n",
        "\tinverted = scaler.inverse_transform(array)\n",
        "\treturn inverted[0, -1]"
      ],
      "execution_count": null,
      "outputs": []
    },
    {
      "cell_type": "code",
      "metadata": {
        "id": "ssLn7f7friO4"
      },
      "source": [
        "# load dataset\n",
        "dataset = result\n",
        "\n",
        "#set Date column as Index\n",
        "dataset=dataset.set_index('Date')\n",
        "\n",
        "# ensure all data is float\n",
        "values = dataset.values\n",
        "values = values.astype('float32')\n",
        "\n",
        "# frame as supervised learning\n",
        "reframed = series_to_supervised(values, 30,1)\n",
        "\n",
        "#exclude the previous value of Index price\n",
        "lst = [x for x in range(0, 90) if x % 3 == 0]\n",
        "reframed.drop(reframed.columns[lst], axis=1, inplace=True)\n",
        "\n",
        "# drop columns we don't want to predict\n",
        "reframed.drop(reframed.columns[[61,62]], axis=1, inplace=True)\n",
        "\n",
        "# normalize features\n",
        "values = reframed.values\n",
        "scaler = MinMaxScaler(feature_range=(0, 1))\n",
        "scaled = scaler.fit_transform(values)\n"
      ],
      "execution_count": 8,
      "outputs": []
    },
    {
      "cell_type": "code",
      "metadata": {
        "colab": {
          "base_uri": "https://localhost:8080/"
        },
        "id": "TRU_T548sVmd",
        "outputId": "0f347518-f399-4d61-f14d-064e01d7ef35"
      },
      "source": [
        "# split into train and test sets\n",
        "n_train = 150\n",
        "train = scaled[:n_train, :]\n",
        "test = scaled[n_train:, :]\n",
        "\n",
        "# split into input and outputs\n",
        "train_X, train_y = train[:, :-1], train[:, -1]\n",
        "test_X, test_y = test[:, :-1], test[:, -1]\n",
        "\n",
        "# reshape input to be 3D [samples, timesteps, features]\n",
        "train_X = train_X.reshape((train_X.shape[0], 1, train_X.shape[1]))\n",
        "test_X = test_X.reshape((test_X.shape[0], 1, test_X.shape[1]))\n",
        "\n",
        "print(train_X.shape, train_y.shape, test_X.shape, test_y.shape,scaled.shape)"
      ],
      "execution_count": 9,
      "outputs": [
        {
          "output_type": "stream",
          "text": [
            "(150, 1, 60) (150,) (43, 1, 60) (43,) (193, 61)\n"
          ],
          "name": "stdout"
        }
      ]
    },
    {
      "cell_type": "code",
      "metadata": {
        "id": "pDRI7lMEWljf"
      },
      "source": [
        "#design a LSTM network\n",
        "def lstm_model (activation,optimizer):\n",
        "  tf.keras.backend.clear_session()\n",
        "  tf.random.set_seed(0)\n",
        "  np.random.seed(0)\n",
        "  tf.keras.backend.clear_session()\n",
        "\n",
        "  model = Sequential()\n",
        "  model.add(LSTM(50,activation=activation, return_sequences=True,input_shape=(train_X.shape[1], train_X.shape[2])))\n",
        "  model.add(LSTM(10,activation=activation))\n",
        "  model.add(Dense(1,activation=activation))\n",
        "  model.compile(loss='mse', optimizer = optimizer,metrics=[\"mae\"])\n",
        "  return model\n",
        "  \n"
      ],
      "execution_count": 10,
      "outputs": []
    },
    {
      "cell_type": "code",
      "metadata": {
        "id": "C6odbO3wYDZM"
      },
      "source": [
        "#fit LSTM network for each country\n",
        "if country=='United Arab Emirates':\n",
        "  model=lstm_model(activation=tf.keras.layers.LeakyReLU( ),optimizer =tf.keras.optimizers.Adam(learning_rate=1e-4))\n",
        "  history=model.fit(train_X, train_y, epochs = 100,batch_size=1, validation_data=(test_X, test_y), verbose=0)\n",
        "elif country=='Brazil':\n",
        "  model=lstm_model(activation='sigmoid',optimizer =tf.keras.optimizers.Adam(learning_rate=5e-4))\n",
        "  history=model.fit(train_X, train_y, epochs = 200,batch_size=1, validation_data=(test_X, test_y), verbose=0)\n",
        "elif country=='France':\n",
        "  model=lstm_model(activation=tf.keras.layers.LeakyReLU( ),optimizer =tf.keras.optimizers.Adam(learning_rate=1e-4))\n",
        "  history=model.fit(train_X, train_y, epochs = 80,batch_size=1, validation_data=(test_X, test_y), verbose=0)\n",
        "elif country == 'Germany':\n",
        "  model=lstm_model(activation='sigmoid',optimizer =tf.keras.optimizers.Adam(learning_rate=5e-4))\n",
        "  history=model.fit(train_X, train_y, epochs = 200,batch_size=1, validation_data=(test_X, test_y), verbose=0)\n",
        "elif country=='Hong Kong':\n",
        "  model=lstm_model(activation=tf.keras.layers.LeakyReLU( ),optimizer =tf.keras.optimizers.Adam(learning_rate=1e-4))\n",
        "  history=model.fit(train_X, train_y, epochs = 60,batch_size=1, validation_data=(test_X, test_y), verbose=0)\n",
        "elif country == 'Indonesia':\n",
        "  model=lstm_model(activation='sigmoid',optimizer =tf.keras.optimizers.Adam(learning_rate=5e-4))\n",
        "  history=model.fit(train_X, train_y, epochs = 150,batch_size=1, validation_data=(test_X, test_y), verbose=0)\n",
        "elif country == 'South Korea':\n",
        "  model=lstm_model(activation='sigmoid',optimizer =tf.keras.optimizers.Adam(learning_rate=5e-4))\n",
        "  history=model.fit(train_X, train_y, epochs = 150,batch_size=1, validation_data=(test_X, test_y), verbose=0)\n",
        "elif country =='United States':\n",
        "  model=lstm_model(activation='sigmoid',optimizer =tf.keras.optimizers.Adam(learning_rate=5e-4))\n",
        "  history=model.fit(train_X, train_y, epochs = 150,batch_size=1, validation_data=(test_X, test_y), verbose=0)\n",
        "elif country =='India':\n",
        "  model=lstm_model(activation='sigmoid',optimizer =tf.keras.optimizers.Adam(learning_rate=5e-4))\n",
        "  history=model.fit(train_X, train_y, epochs = 80,batch_size=1, validation_data=(test_X, test_y), verbose=0)\n",
        "elif country =='Japan':\n",
        "  model=lstm_model(activation=tf.keras.layers.LeakyReLU( ),optimizer =tf.keras.optimizers.Adam(learning_rate=1e-4))\n",
        "  history=model.fit(train_X, train_y, epochs = 100,batch_size=1, validation_data=(test_X, test_y), verbose=0)\n",
        "elif country =='Asutralia':\n",
        "  model=lstm_model(activation=tf.keras.layers.LeakyReLU( ),optimizer ='adam')\n",
        "  history=model.fit(train_X, train_y, epochs = 30,batch_size=1, validation_data=(test_X, test_y), verbose=0)\n",
        "elif country =='Canada':\n",
        "  model=lstm_model(activation='sigmoid',optimizer ='adam')\n",
        "  history=model.fit(train_X, train_y, epochs = 100,batch_size=1, validation_data=(test_X, test_y), verbose=0)\n",
        "elif country =='China':\n",
        "  model=lstm_model(activation='sigmoid',optimizer =tf.keras.optimizers.Adam(learning_rate=5e-4))\n",
        "  history=model.fit(train_X, train_y, epochs = 150,batch_size=1, validation_data=(test_X, test_y), verbose=0)\n",
        "elif country =='South Africa':\n",
        "  model=lstm_model(activation=tf.keras.layers.LeakyReLU( ),optimizer =tf.keras.optimizers.Adam(learning_rate=1e-4))\n",
        "  history=model.fit(train_X, train_y, epochs = 100,batch_size=1, validation_data=(test_X, test_y), verbose=0)\n",
        "\n"
      ],
      "execution_count": 11,
      "outputs": []
    },
    {
      "cell_type": "code",
      "metadata": {
        "id": "2-SesrEkS8b_"
      },
      "source": [
        "\n",
        "#design a RNN network\n",
        "def RNN_model (activation,optimizer):\n",
        "\n",
        "    model = Sequential()\n",
        "    model.add(tf.keras.layers.SimpleRNN(50, return_sequences=True,input_shape = (train_X.shape[1], train_X.shape[2]), activation = activation))\n",
        "    model.add(tf.keras.layers.SimpleRNN(10, activation = activation))\n",
        "    model.add(Dense(1, activation = activation))\n",
        "\n",
        "    # Compile your model with your optimizer, loss, and metrics\n",
        "    model.compile(optimizer = optimizer, loss = 'mse', metrics = ['mae'])\n",
        "if country =='Canada':\n",
        "  model=RNN_model(activation='sigmoid',optimizer ='adam')\n",
        "  history=model.fit(train_X, train_y, epochs = 100,batch_size=1, validation_data=(test_X, test_y), verbose=0)\n"
      ],
      "execution_count": null,
      "outputs": []
    },
    {
      "cell_type": "code",
      "metadata": {
        "id": "U2ZVp9JwTrex"
      },
      "source": [
        "#design a MLP network\n",
        "def MLP_model (activation,optimizer):\n",
        "\n",
        "    model = Sequential()\n",
        "    model.add(Dense(50,input_shape = (train_X.shape[1], train_X.shape[2]), activation=activation))\n",
        "    model.add(Dense(10, activation=activation))\n",
        "    model.add(Dense(1,activation=activation))\n",
        "\n",
        "    # Compile the model with the optimizer, loss, and metrics\n",
        "    model.compile(optimizer = optimizer, loss = 'mse', metrics = ['mae'])\n",
        "if country =='Canada':\n",
        "  model=MLP_model(activation='sigmoid',optimizer ='adam')\n",
        "  history=model.fit(train_X, train_y, epochs = 100,batch_size=1, validation_data=(test_X, test_y), verbose=0)\n"
      ],
      "execution_count": null,
      "outputs": []
    },
    {
      "cell_type": "code",
      "metadata": {
        "colab": {
          "base_uri": "https://localhost:8080/",
          "height": 265
        },
        "id": "rCCOom2cjiU5",
        "outputId": "349f05a2-ebc2-48e3-b456-4b722c19f661"
      },
      "source": [
        "# forecast the entire training dataset to build up state for forecasting\n",
        "model.predict(train_X, batch_size=1)\n",
        "\n",
        "#make a one-step forecast\n",
        "forecast = []\n",
        "for time in range(len(scaled)):\n",
        "        X=scaled[time:time+1][:,:-1]\n",
        "        X = X.reshape((1, 1, 60))\n",
        "        yhat = model.predict(X)\n",
        "        new_X=scaled[time, 0:-1]\n",
        "        yhat_invert = invert_scale(scaler, new_X, yhat[0,0])\n",
        "        forecast.append(yhat_invert)\n",
        "\n",
        "plt.plot(forecast,label='forecast')\n",
        "plt.plot(values[:,:][:,-1],label='actual')\n",
        "plt.legend()\n",
        "plt.show()\n"
      ],
      "execution_count": 18,
      "outputs": [
        {
          "output_type": "display_data",
          "data": {
            "image/png": "[encoded data removed]",
            "text/plain": [
              "<Figure size 432x288 with 1 Axes>"
            ]
          },
          "metadata": {
            "tags": [],
            "needs_background": "light"
          }
        }
      ]
    },
    {
      "cell_type": "code",
      "metadata": {
        "colab": {
          "base_uri": "https://localhost:8080/",
          "height": 298
        },
        "id": "EaoPWw3JjNZS",
        "outputId": "64bf0e92-d671-4d9f-ba9c-8b1cddff8226"
      },
      "source": [
        "# Evaluate the model \n",
        "print(\"Final loss value:\",model.evaluate(test_X, test_y))\n",
        "\n",
        "# plot history\n",
        "plt.plot(history.history['loss'], label='train')\n",
        "plt.plot(history.history['val_loss'], label='test')\n",
        "plt.legend()\n",
        "plt.show()"
      ],
      "execution_count": 19,
      "outputs": [
        {
          "output_type": "stream",
          "text": [
            "2/2 [==============================] - 0s 3ms/step - loss: 0.0035 - mae: 0.0452\n",
            "Final loss value: [0.0035443666856735945, 0.045202355831861496]\n"
          ],
          "name": "stdout"
        },
        {
          "output_type": "display_data",
          "data": {
            "image/png": "[encoded data removed]",
            "text/plain": [
              "<Figure size 432x288 with 1 Axes>"
            ]
          },
          "metadata": {
            "tags": [],
            "needs_background": "light"
          }
        }
      ]
    },
    {
      "cell_type": "code",
      "metadata": {
        "colab": {
          "base_uri": "https://localhost:8080/"
        },
        "id": "JHgEYn77jqP5",
        "outputId": "c792a18a-90df-47eb-8374-788aba5c4bbd"
      },
      "source": [
        "# calculate MAE\n",
        "print(tf.keras.metrics.mean_absolute_error(values[:,-1], forecast).numpy())\n",
        "\n",
        "# calculate RMSE\n",
        "rmse = sqrt(mean_squared_error(values[:,-1], forecast))\n",
        "print('Test RMSE: %.3f' % rmse)"
      ],
      "execution_count": 24,
      "outputs": [
        {
          "output_type": "stream",
          "text": [
            "288.8713\n",
            "Test RMSE: 469.273\n"
          ],
          "name": "stdout"
        }
      ]
    }
  ]
}